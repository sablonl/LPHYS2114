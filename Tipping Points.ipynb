{
 "cells": [
  {
   "cell_type": "markdown",
   "id": "dc28601b",
   "metadata": {},
   "source": [
    "# Tipping points\n",
    "Some simple animations to help get some intuition for 3 types of tipping"
   ]
  },
  {
   "cell_type": "code",
   "execution_count": null,
   "id": "7d2f9772",
   "metadata": {},
   "outputs": [],
   "source": [
    "import numpy as np\n",
    "import matplotlib.pyplot as plt\n",
    "import matplotlib.animation as animation"
   ]
  },
  {
   "cell_type": "code",
   "execution_count": null,
   "id": "506b8c94",
   "metadata": {},
   "outputs": [],
   "source": [
    "from time_dependant_model import model"
   ]
  },
  {
   "cell_type": "code",
   "execution_count": null,
   "id": "d8971d1b",
   "metadata": {},
   "outputs": [],
   "source": [
    "no_noise_model = model()"
   ]
  },
  {
   "cell_type": "code",
   "execution_count": null,
   "id": "12e9fa9c",
   "metadata": {},
   "outputs": [],
   "source": [
    "no_noise_model.p = 1.25"
   ]
  },
  {
   "cell_type": "code",
   "execution_count": null,
   "id": "95850d43",
   "metadata": {},
   "outputs": [],
   "source": [
    "no_noise_model.plot_bifurcation_plot_p(ics=[0.], plot_traj=True, resolution=1000, traj_p_val=0)"
   ]
  },
  {
   "cell_type": "code",
   "execution_count": null,
   "id": "ad751888",
   "metadata": {},
   "outputs": [],
   "source": [
    "t, y = no_noise_model.trajectory(ic=[0.409, 0.51])"
   ]
  },
  {
   "cell_type": "code",
   "execution_count": null,
   "id": "6dba59d6",
   "metadata": {},
   "outputs": [],
   "source": [
    "no_noise_model.p = 0\n",
    "no_noise_model.plot_ball_potential(t=100, ics=[2, -2])"
   ]
  },
  {
   "cell_type": "code",
   "execution_count": null,
   "id": "8b8ccc64",
   "metadata": {},
   "outputs": [],
   "source": [
    "T, Y = no_noise_model.trajectory(ic=[0.49, 0.51])"
   ]
  },
  {
   "cell_type": "code",
   "execution_count": null,
   "id": "e145c28d",
   "metadata": {},
   "outputs": [],
   "source": [
    "no_noise_model.plot_trajectory(t=np.linspace(0, 30, 1000), ics=[0.4999, 0.500001,0])"
   ]
  },
  {
   "cell_type": "code",
   "execution_count": null,
   "id": "0e6de32c",
   "metadata": {},
   "outputs": [],
   "source": [
    "no_noise_model.plot_composite()"
   ]
  },
  {
   "cell_type": "code",
   "execution_count": null,
   "id": "f43f3005",
   "metadata": {},
   "outputs": [],
   "source": [
    "# ani = no_noise_model.animate_composite(ics=np.linspace(-2, 2, 11))"
   ]
  },
  {
   "cell_type": "code",
   "execution_count": null,
   "id": "cd5c8e09",
   "metadata": {},
   "outputs": [],
   "source": [
    "# ani.save(\"Stationary.mp4\")"
   ]
  },
  {
   "cell_type": "code",
   "execution_count": null,
   "id": "c66052b6",
   "metadata": {},
   "outputs": [],
   "source": [
    "def p_var(t):\n",
    "    if isinstance(t, float) or isinstance(t, int):\n",
    "        if (t>=1) & (t<=2):\n",
    "            p_vals = t - 1\n",
    "        elif t<1:\n",
    "            p_vals = 0\n",
    "        else:\n",
    "            p_vals = 1\n",
    "    else:\n",
    "        p_vals = np.zeros_like(t)\n",
    "        mask = (t>1) & (t<=2)\n",
    "        p_vals[mask] = (t[mask] - 1) * 1 \n",
    "        p_vals[t>2] = 1\n",
    "    return p_vals"
   ]
  },
  {
   "cell_type": "code",
   "execution_count": null,
   "id": "4e9ed9c1",
   "metadata": {},
   "outputs": [],
   "source": [
    "no_noise_model.p_func = p_var"
   ]
  },
  {
   "cell_type": "code",
   "execution_count": null,
   "id": "19d9ddb4",
   "metadata": {},
   "outputs": [],
   "source": [
    "ani = no_noise_model.animate_composite(ics=[-1., 0., 1.])"
   ]
  },
  {
   "cell_type": "code",
   "execution_count": null,
   "id": "eb5f1c96",
   "metadata": {},
   "outputs": [],
   "source": [
    "ani.save(\"b_tipping.mp4\")"
   ]
  },
  {
   "cell_type": "markdown",
   "id": "1e6033a9",
   "metadata": {},
   "source": [
    "## Noise Induced Tipping"
   ]
  },
  {
   "cell_type": "code",
   "execution_count": null,
   "id": "6ff85732",
   "metadata": {},
   "outputs": [],
   "source": []
  },
  {
   "cell_type": "code",
   "execution_count": null,
   "id": "86b34785",
   "metadata": {},
   "outputs": [],
   "source": [
    "noisy_model = model()"
   ]
  }
 ],
 "metadata": {
  "kernelspec": {
   "display_name": "Python 3 (ipykernel)",
   "language": "python",
   "name": "python3"
  },
  "language_info": {
   "codemirror_mode": {
    "name": "ipython",
    "version": 3
   },
   "file_extension": ".py",
   "mimetype": "text/x-python",
   "name": "python",
   "nbconvert_exporter": "python",
   "pygments_lexer": "ipython3",
   "version": "3.8.10"
  }
 },
 "nbformat": 4,
 "nbformat_minor": 5
}
