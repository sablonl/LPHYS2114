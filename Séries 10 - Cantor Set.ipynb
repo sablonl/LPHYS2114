{
 "cells": [
  {
   "cell_type": "markdown",
   "id": "5f5f3449",
   "metadata": {},
   "source": [
    "# Cantor set\n",
    "$T([a, b])=[a, a+(b-a) / 3] \\cup[b-(b-a) / 3, b]$"
   ]
  },
  {
   "cell_type": "code",
   "execution_count": 1,
   "id": "3000cff1",
   "metadata": {},
   "outputs": [],
   "source": [
    "import numpy as np\n",
    "import matplotlib.pyplot as plt\n",
    "from fractions import Fraction"
   ]
  },
  {
   "cell_type": "code",
   "execution_count": 2,
   "id": "6eb412b5",
   "metadata": {},
   "outputs": [],
   "source": [
    "def cantor_set(interval):\n",
    "    a, b = interval\n",
    "    frac = (b - a) / 3\n",
    "    return ([a, a + frac], [b - frac, b])"
   ]
  },
  {
   "cell_type": "code",
   "execution_count": 3,
   "id": "2475832f",
   "metadata": {},
   "outputs": [],
   "source": [
    "ini_set = [0, 1]\n",
    "number_iterations = 7"
   ]
  },
  {
   "cell_type": "markdown",
   "id": "8d85c602",
   "metadata": {},
   "source": [
    "Building the cantor set.\n",
    "This is done by building a list `cantor_iterations` that as its `n`-th element, contains the `n`-th iteration of the cantor set. This grows as $2^n$"
   ]
  },
  {
   "cell_type": "code",
   "execution_count": 4,
   "id": "755b28eb",
   "metadata": {},
   "outputs": [],
   "source": [
    "cantor_iterations = list()\n",
    "cantor_iterations.append([ini_set])\n",
    "\n",
    "for n in range(number_iterations):\n",
    "    sub_sets = list()\n",
    "    for it in cantor_iterations[n]:\n",
    "        for sub_it in cantor_set(it):\n",
    "            sub_sets.append(sub_it)\n",
    "    cantor_iterations.append(sub_sets)"
   ]
  },
  {
   "cell_type": "markdown",
   "id": "f8703650",
   "metadata": {},
   "source": [
    "Print out the answers"
   ]
  },
  {
   "cell_type": "code",
   "execution_count": 5,
   "id": "bc107162",
   "metadata": {},
   "outputs": [],
   "source": [
    "def print_interval(it):\n",
    "    a, b = it\n",
    "    return '[' + str(Fraction(a).limit_denominator()) + ', ' + str(Fraction(b).limit_denominator()) + ']'\n",
    "\n",
    "def print_interval_union(its):\n",
    "    union = ''\n",
    "    for i in its:\n",
    "        interval_printed = print_interval(i) + ' ∪ '\n",
    "        union += interval_printed\n",
    "    return union[:-3]"
   ]
  },
  {
   "cell_type": "code",
   "execution_count": 6,
   "id": "62773600",
   "metadata": {},
   "outputs": [
    {
     "name": "stdout",
     "output_type": "stream",
     "text": [
      "Iteration 0:\n",
      "\n",
      "T([0, 1]) = [0, 1/3] ∪ [2/3, 1]\n",
      "\n",
      "\n",
      "Iteration 1:\n",
      "\n",
      "T([0, 1/3] ∪ [2/3, 1]) = [0, 1/9] ∪ [2/9, 1/3] ∪ [2/3, 7/9] ∪ [8/9, 1]\n",
      "\n",
      "\n",
      "Iteration 2:\n",
      "\n",
      "T([0, 1/9] ∪ [2/9, 1/3] ∪ [2/3, 7/9] ∪ [8/9, 1]) = [0, 1/27] ∪ [2/27, 1/9] ∪ [2/9, 7/27] ∪ [8/27, 1/3] ∪ [2/3, 19/27] ∪ [20/27, 7/9] ∪ [8/9, 25/27] ∪ [26/27, 1]\n",
      "\n",
      "\n",
      "Iteration 3:\n",
      "\n",
      "T([0, 1/27] ∪ [2/27, 1/9] ∪ [2/9, 7/27] ∪ [8/27, 1/3] ∪ [2/3, 19/27] ∪ [20/27, 7/9] ∪ [8/9, 25/27] ∪ [26/27, 1]) = [0, 1/81] ∪ [2/81, 1/27] ∪ [2/27, 7/81] ∪ [8/81, 1/9] ∪ [2/9, 19/81] ∪ [20/81, 7/27] ∪ [8/27, 25/81] ∪ [26/81, 1/3] ∪ [2/3, 55/81] ∪ [56/81, 19/27] ∪ [20/27, 61/81] ∪ [62/81, 7/9] ∪ [8/9, 73/81] ∪ [74/81, 25/27] ∪ [26/27, 79/81] ∪ [80/81, 1]\n",
      "\n",
      "\n",
      "Iteration 4:\n",
      "\n",
      "T([0, 1/81] ∪ [2/81, 1/27] ∪ [2/27, 7/81] ∪ [8/81, 1/9] ∪ [2/9, 19/81] ∪ [20/81, 7/27] ∪ [8/27, 25/81] ∪ [26/81, 1/3] ∪ [2/3, 55/81] ∪ [56/81, 19/27] ∪ [20/27, 61/81] ∪ [62/81, 7/9] ∪ [8/9, 73/81] ∪ [74/81, 25/27] ∪ [26/27, 79/81] ∪ [80/81, 1]) = [0, 1/243] ∪ [2/243, 1/81] ∪ [2/81, 7/243] ∪ [8/243, 1/27] ∪ [2/27, 19/243] ∪ [20/243, 7/81] ∪ [8/81, 25/243] ∪ [26/243, 1/9] ∪ [2/9, 55/243] ∪ [56/243, 19/81] ∪ [20/81, 61/243] ∪ [62/243, 7/27] ∪ [8/27, 73/243] ∪ [74/243, 25/81] ∪ [26/81, 79/243] ∪ [80/243, 1/3] ∪ [2/3, 163/243] ∪ [164/243, 55/81] ∪ [56/81, 169/243] ∪ [170/243, 19/27] ∪ [20/27, 181/243] ∪ [182/243, 61/81] ∪ [62/81, 187/243] ∪ [188/243, 7/9] ∪ [8/9, 217/243] ∪ [218/243, 73/81] ∪ [74/81, 223/243] ∪ [224/243, 25/27] ∪ [26/27, 235/243] ∪ [236/243, 79/81] ∪ [80/81, 241/243] ∪ [242/243, 1]\n",
      "\n",
      "\n",
      "Iteration 5:\n",
      "\n",
      "T([0, 1/243] ∪ [2/243, 1/81] ∪ [2/81, 7/243] ∪ [8/243, 1/27] ∪ [2/27, 19/243] ∪ [20/243, 7/81] ∪ [8/81, 25/243] ∪ [26/243, 1/9] ∪ [2/9, 55/243] ∪ [56/243, 19/81] ∪ [20/81, 61/243] ∪ [62/243, 7/27] ∪ [8/27, 73/243] ∪ [74/243, 25/81] ∪ [26/81, 79/243] ∪ [80/243, 1/3] ∪ [2/3, 163/243] ∪ [164/243, 55/81] ∪ [56/81, 169/243] ∪ [170/243, 19/27] ∪ [20/27, 181/243] ∪ [182/243, 61/81] ∪ [62/81, 187/243] ∪ [188/243, 7/9] ∪ [8/9, 217/243] ∪ [218/243, 73/81] ∪ [74/81, 223/243] ∪ [224/243, 25/27] ∪ [26/27, 235/243] ∪ [236/243, 79/81] ∪ [80/81, 241/243] ∪ [242/243, 1]) = [0, 1/729] ∪ [2/729, 1/243] ∪ [2/243, 7/729] ∪ [8/729, 1/81] ∪ [2/81, 19/729] ∪ [20/729, 7/243] ∪ [8/243, 25/729] ∪ [26/729, 1/27] ∪ [2/27, 55/729] ∪ [56/729, 19/243] ∪ [20/243, 61/729] ∪ [62/729, 7/81] ∪ [8/81, 73/729] ∪ [74/729, 25/243] ∪ [26/243, 79/729] ∪ [80/729, 1/9] ∪ [2/9, 163/729] ∪ [164/729, 55/243] ∪ [56/243, 169/729] ∪ [170/729, 19/81] ∪ [20/81, 181/729] ∪ [182/729, 61/243] ∪ [62/243, 187/729] ∪ [188/729, 7/27] ∪ [8/27, 217/729] ∪ [218/729, 73/243] ∪ [74/243, 223/729] ∪ [224/729, 25/81] ∪ [26/81, 235/729] ∪ [236/729, 79/243] ∪ [80/243, 241/729] ∪ [242/729, 1/3] ∪ [2/3, 487/729] ∪ [488/729, 163/243] ∪ [164/243, 493/729] ∪ [494/729, 55/81] ∪ [56/81, 505/729] ∪ [506/729, 169/243] ∪ [170/243, 511/729] ∪ [512/729, 19/27] ∪ [20/27, 541/729] ∪ [542/729, 181/243] ∪ [182/243, 547/729] ∪ [548/729, 61/81] ∪ [62/81, 559/729] ∪ [560/729, 187/243] ∪ [188/243, 565/729] ∪ [566/729, 7/9] ∪ [8/9, 649/729] ∪ [650/729, 217/243] ∪ [218/243, 655/729] ∪ [656/729, 73/81] ∪ [74/81, 667/729] ∪ [668/729, 223/243] ∪ [224/243, 673/729] ∪ [674/729, 25/27] ∪ [26/27, 703/729] ∪ [704/729, 235/243] ∪ [236/243, 709/729] ∪ [710/729, 79/81] ∪ [80/81, 721/729] ∪ [722/729, 241/243] ∪ [242/243, 727/729] ∪ [728/729, 1]\n",
      "\n",
      "\n",
      "Iteration 6:\n",
      "\n",
      "T([0, 1/729] ∪ [2/729, 1/243] ∪ [2/243, 7/729] ∪ [8/729, 1/81] ∪ [2/81, 19/729] ∪ [20/729, 7/243] ∪ [8/243, 25/729] ∪ [26/729, 1/27] ∪ [2/27, 55/729] ∪ [56/729, 19/243] ∪ [20/243, 61/729] ∪ [62/729, 7/81] ∪ [8/81, 73/729] ∪ [74/729, 25/243] ∪ [26/243, 79/729] ∪ [80/729, 1/9] ∪ [2/9, 163/729] ∪ [164/729, 55/243] ∪ [56/243, 169/729] ∪ [170/729, 19/81] ∪ [20/81, 181/729] ∪ [182/729, 61/243] ∪ [62/243, 187/729] ∪ [188/729, 7/27] ∪ [8/27, 217/729] ∪ [218/729, 73/243] ∪ [74/243, 223/729] ∪ [224/729, 25/81] ∪ [26/81, 235/729] ∪ [236/729, 79/243] ∪ [80/243, 241/729] ∪ [242/729, 1/3] ∪ [2/3, 487/729] ∪ [488/729, 163/243] ∪ [164/243, 493/729] ∪ [494/729, 55/81] ∪ [56/81, 505/729] ∪ [506/729, 169/243] ∪ [170/243, 511/729] ∪ [512/729, 19/27] ∪ [20/27, 541/729] ∪ [542/729, 181/243] ∪ [182/243, 547/729] ∪ [548/729, 61/81] ∪ [62/81, 559/729] ∪ [560/729, 187/243] ∪ [188/243, 565/729] ∪ [566/729, 7/9] ∪ [8/9, 649/729] ∪ [650/729, 217/243] ∪ [218/243, 655/729] ∪ [656/729, 73/81] ∪ [74/81, 667/729] ∪ [668/729, 223/243] ∪ [224/243, 673/729] ∪ [674/729, 25/27] ∪ [26/27, 703/729] ∪ [704/729, 235/243] ∪ [236/243, 709/729] ∪ [710/729, 79/81] ∪ [80/81, 721/729] ∪ [722/729, 241/243] ∪ [242/243, 727/729] ∪ [728/729, 1]) = [0, 1/2187] ∪ [2/2187, 1/729] ∪ [2/729, 7/2187] ∪ [8/2187, 1/243] ∪ [2/243, 19/2187] ∪ [20/2187, 7/729] ∪ [8/729, 25/2187] ∪ [26/2187, 1/81] ∪ [2/81, 55/2187] ∪ [56/2187, 19/729] ∪ [20/729, 61/2187] ∪ [62/2187, 7/243] ∪ [8/243, 73/2187] ∪ [74/2187, 25/729] ∪ [26/729, 79/2187] ∪ [80/2187, 1/27] ∪ [2/27, 163/2187] ∪ [164/2187, 55/729] ∪ [56/729, 169/2187] ∪ [170/2187, 19/243] ∪ [20/243, 181/2187] ∪ [182/2187, 61/729] ∪ [62/729, 187/2187] ∪ [188/2187, 7/81] ∪ [8/81, 217/2187] ∪ [218/2187, 73/729] ∪ [74/729, 223/2187] ∪ [224/2187, 25/243] ∪ [26/243, 235/2187] ∪ [236/2187, 79/729] ∪ [80/729, 241/2187] ∪ [242/2187, 1/9] ∪ [2/9, 487/2187] ∪ [488/2187, 163/729] ∪ [164/729, 493/2187] ∪ [494/2187, 55/243] ∪ [56/243, 505/2187] ∪ [506/2187, 169/729] ∪ [170/729, 511/2187] ∪ [512/2187, 19/81] ∪ [20/81, 541/2187] ∪ [542/2187, 181/729] ∪ [182/729, 547/2187] ∪ [548/2187, 61/243] ∪ [62/243, 559/2187] ∪ [560/2187, 187/729] ∪ [188/729, 565/2187] ∪ [566/2187, 7/27] ∪ [8/27, 649/2187] ∪ [650/2187, 217/729] ∪ [218/729, 655/2187] ∪ [656/2187, 73/243] ∪ [74/243, 667/2187] ∪ [668/2187, 223/729] ∪ [224/729, 673/2187] ∪ [674/2187, 25/81] ∪ [26/81, 703/2187] ∪ [704/2187, 235/729] ∪ [236/729, 709/2187] ∪ [710/2187, 79/243] ∪ [80/243, 721/2187] ∪ [722/2187, 241/729] ∪ [242/729, 727/2187] ∪ [728/2187, 1/3] ∪ [2/3, 1459/2187] ∪ [1460/2187, 487/729] ∪ [488/729, 1465/2187] ∪ [1466/2187, 163/243] ∪ [164/243, 1477/2187] ∪ [1478/2187, 493/729] ∪ [494/729, 1483/2187] ∪ [1484/2187, 55/81] ∪ [56/81, 1513/2187] ∪ [1514/2187, 505/729] ∪ [506/729, 1519/2187] ∪ [1520/2187, 169/243] ∪ [170/243, 1531/2187] ∪ [1532/2187, 511/729] ∪ [512/729, 1537/2187] ∪ [1538/2187, 19/27] ∪ [20/27, 1621/2187] ∪ [1622/2187, 541/729] ∪ [542/729, 1627/2187] ∪ [1628/2187, 181/243] ∪ [182/243, 1639/2187] ∪ [1640/2187, 547/729] ∪ [548/729, 1645/2187] ∪ [1646/2187, 61/81] ∪ [62/81, 1675/2187] ∪ [1676/2187, 559/729] ∪ [560/729, 1681/2187] ∪ [1682/2187, 187/243] ∪ [188/243, 1693/2187] ∪ [1694/2187, 565/729] ∪ [566/729, 1699/2187] ∪ [1700/2187, 7/9] ∪ [8/9, 1945/2187] ∪ [1946/2187, 649/729] ∪ [650/729, 1951/2187] ∪ [1952/2187, 217/243] ∪ [218/243, 1963/2187] ∪ [1964/2187, 655/729] ∪ [656/729, 1969/2187] ∪ [1970/2187, 73/81] ∪ [74/81, 1999/2187] ∪ [2000/2187, 667/729] ∪ [668/729, 2005/2187] ∪ [2006/2187, 223/243] ∪ [224/243, 2017/2187] ∪ [2018/2187, 673/729] ∪ [674/729, 2023/2187] ∪ [2024/2187, 25/27] ∪ [26/27, 2107/2187] ∪ [2108/2187, 703/729] ∪ [704/729, 2113/2187] ∪ [2114/2187, 235/243] ∪ [236/243, 2125/2187] ∪ [2126/2187, 709/729] ∪ [710/729, 2131/2187] ∪ [2132/2187, 79/81] ∪ [80/81, 2161/2187] ∪ [2162/2187, 721/729] ∪ [722/729, 2167/2187] ∪ [2168/2187, 241/243] ∪ [242/243, 2179/2187] ∪ [2180/2187, 727/729] ∪ [728/729, 2185/2187] ∪ [2186/2187, 1]\n",
      "\n",
      "\n"
     ]
    }
   ],
   "source": [
    "prev_it = None\n",
    "for i, ls in enumerate(cantor_iterations[1:]):\n",
    "    print(\"Iteration \" + str(i) + \":\\n\")\n",
    "    union = print_interval_union(ls)\n",
    "    if prev_it is None:\n",
    "        print(\"T(\" + str(cantor_iterations[0][0]) + \") = \" + union)\n",
    "    else:\n",
    "        print(\"T(\" + prev_it + \") = \" + union)\n",
    "    prev_it = union\n",
    "    print(\"\\n\")"
   ]
  },
  {
   "cell_type": "markdown",
   "id": "576a4440",
   "metadata": {},
   "source": [
    "Length of each interval"
   ]
  },
  {
   "cell_type": "code",
   "execution_count": 7,
   "id": "2cbe2c6e",
   "metadata": {},
   "outputs": [],
   "source": [
    "def iteration_len(it):\n",
    "    sum_val = 0\n",
    "    for i in it:\n",
    "        a, b = i\n",
    "        sum_val += b - a\n",
    "    return sum_val"
   ]
  },
  {
   "cell_type": "code",
   "execution_count": 8,
   "id": "59490fbc",
   "metadata": {},
   "outputs": [
    {
     "name": "stdout",
     "output_type": "stream",
     "text": [
      "Iteration | Interval Length     | (2/3)^n             | Difference             \n",
      "----------------------------------------------------------------------------------\n",
      "0         | 1                   | 1.0                 | 0.0                    \n",
      "1         | 0.6666666666666665  | 0.6666666666666666  | -1.1102230246251565e-16\n",
      "2         | 0.4444444444444443  | 0.4444444444444444  | -1.1102230246251565e-16\n",
      "3         | 0.29629629629629606 | 0.2962962962962962  | -1.6653345369377348e-16\n",
      "4         | 0.1975308641975304  | 0.19753086419753083 | -4.163336342344337e-16 \n",
      "5         | 0.13168724279835348 | 0.13168724279835387 | -3.885780586188048e-16 \n",
      "6         | 0.08779149519890134 | 0.08779149519890257 | -1.2351231148954867e-15\n",
      "7         | 0.05852766346593685 | 0.05852766346593505 | 1.8041124150158794e-15 \n"
     ]
    }
   ],
   "source": [
    "headers = [\"Iteration\", \"Interval Length\", \"(2/3)^n\", \"Difference\"]\n",
    "rows = list()\n",
    "\n",
    "for i, ls in enumerate(cantor_iterations):\n",
    "    rows.append([i, iteration_len(ls), (2/3)**i, iteration_len(ls) - (2/3)**i])\n",
    "    \n",
    "# Calculate column widths for formatting\n",
    "col_widths = [max(len(str(item)) for item in col) for col in zip(headers, *rows)]\n",
    "\n",
    "# Create a formatted row function\n",
    "def format_row(row):\n",
    "    return \" | \".join(f\"{item:<{col_widths[i]}}\" for i, item in enumerate(row))\n",
    "\n",
    "# Print the table\n",
    "print(format_row(headers))\n",
    "print(\"-\" * (sum(col_widths) + 4 * (len(headers) - 1)))\n",
    "for row in rows:\n",
    "    print(format_row(row))"
   ]
  },
  {
   "cell_type": "markdown",
   "id": "5f9bd605",
   "metadata": {},
   "source": [
    "Plot the sets"
   ]
  },
  {
   "cell_type": "code",
   "execution_count": 9,
   "id": "444d5f08",
   "metadata": {},
   "outputs": [
    {
     "data": {
      "image/png": "[encoded data removed]",
      "text/plain": [
       "<Figure size 1080x720 with 1 Axes>"
      ]
     },
     "metadata": {
      "needs_background": "light"
     },
     "output_type": "display_data"
    }
   ],
   "source": [
    "fig, ax = plt.subplots(1, 1, figsize=(15, 10))\n",
    "plt.gca().invert_yaxis()\n",
    "for i, ls in enumerate(cantor_iterations):\n",
    "    for it in ls:\n",
    "        ax.plot(it, np.ones(2)*i, color='black')"
   ]
  },
  {
   "cell_type": "code",
   "execution_count": null,
   "id": "7268d28e",
   "metadata": {},
   "outputs": [],
   "source": []
  }
 ],
 "metadata": {
  "kernelspec": {
   "display_name": "Python 3 (ipykernel)",
   "language": "python",
   "name": "python3"
  },
  "language_info": {
   "codemirror_mode": {
    "name": "ipython",
    "version": 3
   },
   "file_extension": ".py",
   "mimetype": "text/x-python",
   "name": "python",
   "nbconvert_exporter": "python",
   "pygments_lexer": "ipython3",
   "version": "3.8.10"
  }
 },
 "nbformat": 4,
 "nbformat_minor": 5
}
