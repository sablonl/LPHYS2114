{
 "cells": [
  {
   "cell_type": "markdown",
   "id": "88db203b",
   "metadata": {},
   "source": [
    "# Question 3 - Gradient Systems Example\n",
    "This notebook is a toy to visualise an example of a gradient system"
   ]
  },
  {
   "cell_type": "markdown",
   "id": "9e0542d6",
   "metadata": {},
   "source": [
    "Import required libraries"
   ]
  },
  {
   "cell_type": "code",
   "execution_count": null,
   "id": "cef76033",
   "metadata": {},
   "outputs": [],
   "source": [
    "import numpy as np\n",
    "from scipy.integrate import odeint  # Used to numerically solve the ODE\n",
    "import matplotlib.pyplot as plt"
   ]
  },
  {
   "cell_type": "code",
   "execution_count": null,
   "id": "e921643d",
   "metadata": {},
   "outputs": [],
   "source": [
    "# Library to allow for interactive plots\n",
    "from IPython.display import display\n",
    "from ipywidgets import interact, widgets, interactive"
   ]
  },
  {
   "cell_type": "markdown",
   "id": "49f3e823",
   "metadata": {},
   "source": [
    "A gradient system is of the form: $\\dot{\\vec{x}}=-\\nabla V(\\vec{x});~ x\\in\\mathbb{R}^n,~ V:\\mathbb{R}^n\\rightarrow \\mathbb{R}$\n",
    "\n",
    "In this notebook we are working with a 2-dim system, so $x\\in\\mathbb{R}^2,~ V:\\mathbb{R}^2\\rightarrow \\mathbb{R}$"
   ]
  },
  {
   "cell_type": "markdown",
   "id": "436948a5",
   "metadata": {},
   "source": [
    "Define the function $-\\nabla V(\\vec{x})$"
   ]
  },
  {
   "cell_type": "code",
   "execution_count": null,
   "id": "c6862a22",
   "metadata": {},
   "outputs": [],
   "source": [
    "def V(x):\n",
    "    return np.sin(x[0]) * np.sin(x[1])\n",
    "\n",
    "def gradient_V(x):\n",
    "    return np.array([np.cos(x[0]) * np.sin(x[1]), np.sin(x[0]) * np.cos(x[1])])"
   ]
  },
  {
   "cell_type": "markdown",
   "id": "f18abc46",
   "metadata": {},
   "source": [
    "### Visualising the gradient"
   ]
  },
  {
   "cell_type": "code",
   "execution_count": null,
   "id": "7bc4da59",
   "metadata": {},
   "outputs": [],
   "source": [
    "x1, x2 = np.linspace(-np.pi, np.pi, 100), np.linspace(-np.pi, np.pi, 100)\n",
    "X1, X2 = np.meshgrid(x1, x2)\n",
    "z = V([X1, X2])\n",
    "dz_dx1, dz_dx2 = gradient_V([X1, X2])"
   ]
  },
  {
   "cell_type": "code",
   "execution_count": null,
   "id": "2c27b5b7",
   "metadata": {},
   "outputs": [],
   "source": [
    "fig = plt.figure(figsize=(20, 10))\n",
    "\n",
    "# 1st subplot: 3D surface plot\n",
    "ax1 = fig.add_subplot(121, projection='3d')\n",
    "surf = ax1.plot_surface(X1, X2, z, cmap='viridis', edgecolor='none', alpha=0.5)\n",
    "ax1.contour(X1, X2, z, 10, colors='black', linestyles='solid')\n",
    "ax1.set_xlabel('X1')\n",
    "ax1.set_ylabel('X2')\n",
    "ax1.set_zlabel('V')\n",
    "\n",
    "ax1.view_init(elev=50, azim=-90)\n",
    "\n",
    "# 2nd subplot: 2D vector field with contour lines\n",
    "ax2 = fig.add_subplot(122)\n",
    "res = 5\n",
    "ax2.quiver(X1[::res, ::res], X2[::res, ::res], dz_dx1[::res, ::res], dz_dx2[::res, ::res], z[::res, ::res], cmap='viridis')\n",
    "contour = ax2.contour(X1[::res, ::res], X2[::res, ::res], z[::res, ::res], 10, colors='black', linestyles='dashed')\n",
    "ax2.clabel(contour, inline=True, fontsize=8)\n",
    "ax2.set_xlabel('X1 axis')\n",
    "ax2.set_ylabel('X2 axis')\n",
    "\n",
    "plt.show()"
   ]
  },
  {
   "cell_type": "markdown",
   "id": "70267044",
   "metadata": {},
   "source": [
    "In this case we can analytically find the points where $\\nabla V(\\vec{x})=0$: \n",
    "\n",
    "$$(x1,~x2)=(\\frac{n_1}{2}\\pi, \\frac{n_2}{2}\\pi);~ n_1,~n_2\\in\\mathbb{Z}\\ \\ \\ \\&\\ \\ \\  x_1=\\pm x_2$$\n",
    "\n",
    "For this example we limit $-1\\le n_1,n_2\\le 1$"
   ]
  },
  {
   "cell_type": "code",
   "execution_count": null,
   "id": "aa93fa3b",
   "metadata": {},
   "outputs": [],
   "source": [
    "def V_zeros():\n",
    "    zeros = list()\n",
    "    for i in range(-1, 2):\n",
    "        for j in range(-1, 2):\n",
    "            if abs(i) == abs(j):\n",
    "                zeros.append([i * np.pi/2, j * np.pi/2])\n",
    "    return zeros"
   ]
  },
  {
   "cell_type": "markdown",
   "id": "54cdb4a0",
   "metadata": {},
   "source": [
    "We plot these fixed points on the vector field"
   ]
  },
  {
   "cell_type": "code",
   "execution_count": null,
   "id": "517ce358",
   "metadata": {},
   "outputs": [],
   "source": [
    "fig, ax = plt.subplots(figsize=(10, 10))\n",
    "\n",
    "# 2nd subplot: 2D vector field with contour lines\n",
    "res = 5\n",
    "ax.quiver(X1[::res, ::res], X2[::res, ::res], dz_dx1[::res, ::res], dz_dx2[::res, ::res], z[::res, ::res], cmap='viridis')\n",
    "contour = ax.contour(X1[::res, ::res], X2[::res, ::res], z[::res, ::res], 10, colors='black', linestyles='dashed')\n",
    "# plot FP\n",
    "for fp in V_zeros():\n",
    "    fp_x1, fp_x2 = fp\n",
    "    ax.scatter(fp_x1, fp_x2, c='r', marker='x', s=200)\n",
    "\n",
    "ax.clabel(contour, inline=True, fontsize=8)\n",
    "ax.set_xlabel('X1 axis')\n",
    "ax.set_ylabel('X2 axis')\n",
    "\n",
    "plt.show()"
   ]
  },
  {
   "cell_type": "markdown",
   "id": "5d7feddb",
   "metadata": {},
   "source": [
    "# Trajectories"
   ]
  },
  {
   "cell_type": "markdown",
   "id": "f1da3170",
   "metadata": {},
   "source": [
    "We define a function that `odeint` will recognise"
   ]
  },
  {
   "cell_type": "code",
   "execution_count": null,
   "id": "64fdd421",
   "metadata": {},
   "outputs": [],
   "source": [
    "def gradient_system(x, t):\n",
    "    return - gradient_V(x)"
   ]
  },
  {
   "cell_type": "markdown",
   "id": "fdf9860b",
   "metadata": {},
   "source": [
    "We start with a few random initial contidions and see how these evolve."
   ]
  },
  {
   "cell_type": "code",
   "execution_count": null,
   "id": "5a085ba8",
   "metadata": {},
   "outputs": [],
   "source": [
    "# random points for initial conditions\n",
    "# trajectories\n",
    "num_traj = 15\n",
    "initial_conditions = 2 * np.pi * (np.random.rand(num_traj, 2) - 1/2)"
   ]
  },
  {
   "cell_type": "markdown",
   "id": "06e94181",
   "metadata": {},
   "source": [
    "I specifically set an initial condition close to the saddle point:"
   ]
  },
  {
   "cell_type": "code",
   "execution_count": null,
   "id": "44120dfe",
   "metadata": {},
   "outputs": [],
   "source": [
    "initial_conditions = np.vstack((initial_conditions, [0.11, 0.1]))"
   ]
  },
  {
   "cell_type": "markdown",
   "id": "46b71534",
   "metadata": {},
   "source": [
    "We now integrate the system for each initial condition"
   ]
  },
  {
   "cell_type": "code",
   "execution_count": null,
   "id": "e0dba33b",
   "metadata": {},
   "outputs": [],
   "source": [
    "traj = list()\n",
    "for ic in initial_conditions:\n",
    "    traj.append(odeint(gradient_system, ic, np.linspace(0, 1000, 10000)))"
   ]
  },
  {
   "cell_type": "markdown",
   "id": "80683e21",
   "metadata": {},
   "source": [
    "And now plot the trajectories. Note I have reversed the gradient here!"
   ]
  },
  {
   "cell_type": "code",
   "execution_count": null,
   "id": "d94df5c9",
   "metadata": {},
   "outputs": [],
   "source": [
    "fig, ax = plt.subplots(figsize=(20, 20))\n",
    "\n",
    "# 2nd subplot: 2D vector field with contour lines\n",
    "res = 5\n",
    "ax.quiver(X1[::res, ::res], X2[::res, ::res], -dz_dx1[::res, ::res], -dz_dx2[::res, ::res], z[::res, ::res], cmap='viridis')\n",
    "contour = ax.contour(X1[::res, ::res], X2[::res, ::res], z[::res, ::res], 10, colors='black', linestyles='dashed')\n",
    "# plot FP\n",
    "for fp in V_zeros():\n",
    "    fp_x1, fp_x2 = fp\n",
    "    ax.scatter(fp_x1, fp_x2, c='r', marker='x', s=200)\n",
    "    \n",
    "\n",
    "# plot the trajectories\n",
    "for t in traj:\n",
    "    ax.plot(t[:,0], t[:,1])\n",
    "    \n",
    "# plot the ICs\n",
    "for ic in initial_conditions:\n",
    "    ax.scatter(ic[0], ic[1])\n",
    "\n",
    "ax.clabel(contour, inline=True, fontsize=8)\n",
    "ax.set_xlabel('X1 axis')\n",
    "ax.set_ylabel('X2 axis')\n",
    "\n",
    "plt.show()"
   ]
  }
 ],
 "metadata": {
  "kernelspec": {
   "display_name": "Python 3 (ipykernel)",
   "language": "python",
   "name": "python3"
  },
  "language_info": {
   "codemirror_mode": {
    "name": "ipython",
    "version": 3
   },
   "file_extension": ".py",
   "mimetype": "text/x-python",
   "name": "python",
   "nbconvert_exporter": "python",
   "pygments_lexer": "ipython3",
   "version": "3.8.10"
  }
 },
 "nbformat": 4,
 "nbformat_minor": 5
}
