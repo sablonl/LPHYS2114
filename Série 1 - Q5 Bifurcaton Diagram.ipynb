{
 "cells": [
  {
   "cell_type": "markdown",
   "id": "c48cc455",
   "metadata": {},
   "source": [
    "# Bifurcation diagram of Logistic diagram"
   ]
  },
  {
   "cell_type": "markdown",
   "id": "c7faa6da",
   "metadata": {},
   "source": [
    "Bifurcation diagrams allow us to visualise the impact of parameters on the solutions.\n",
    "\n",
    "You can read more about them [here](https://math.libretexts.org/Bookshelves/Scientific_Computing_Simulations_and_Modeling/Introduction_to_the_Modeling_and_Analysis_of_Complex_Systems_(Sayama)/08%3A_Bifurcations/8.02%3A_Bifurcations_in_1-D_Continuous-Time_Models).\n",
    "\n",
    "This notebook uses [BifrucationKit.jl](https://bifurcationkit.github.io/BifurcationKitDocs.jl/dev/)."
   ]
  },
  {
   "cell_type": "code",
   "execution_count": null,
   "id": "b93ae426",
   "metadata": {},
   "outputs": [],
   "source": [
    "using BifurcationKit\n",
    "using Plots, Revise\n",
    "\n",
    "const BK = BifurcationKit"
   ]
  },
  {
   "cell_type": "markdown",
   "id": "8f098805",
   "metadata": {},
   "source": [
    "Definition of Logistic Equation"
   ]
  },
  {
   "cell_type": "code",
   "execution_count": null,
   "id": "7606104b",
   "metadata": {},
   "outputs": [],
   "source": [
    "function N_dot!(dN, N, p, t=0)\n",
    "    (;r, a, b) = p\n",
    "    dN = N .* (r .- a .* (N .- b).^2)\n",
    "    dN\n",
    "end"
   ]
  },
  {
   "cell_type": "markdown",
   "id": "45ff7629",
   "metadata": {},
   "source": [
    "parameters are stored as $p=(r, a, b)$"
   ]
  },
  {
   "cell_type": "code",
   "execution_count": null,
   "id": "589bade1",
   "metadata": {},
   "outputs": [],
   "source": [
    "par = (r=1., a=1., b=1.)"
   ]
  },
  {
   "cell_type": "markdown",
   "id": "38ef2fa4",
   "metadata": {},
   "source": [
    "# Bifurcation Diagram in $r$"
   ]
  },
  {
   "cell_type": "code",
   "execution_count": null,
   "id": "fa5e2634",
   "metadata": {},
   "outputs": [],
   "source": [
    "prob = BifurcationProblem(\n",
    "    N_dot!, \n",
    "    [0.], \n",
    "    par,\n",
    "    (@optic _.r),   # Here we set the continuation parameter\n",
    "    record_from_solution = (x, p; k...) -> x[1]\n",
    ")"
   ]
  },
  {
   "cell_type": "code",
   "execution_count": null,
   "id": "b2b89642",
   "metadata": {},
   "outputs": [],
   "source": [
    "continuation_bounds = ContinuationPar(\n",
    "    p_min = -0.5, \n",
    "    p_max = 4., \n",
    "    n_inversion=4)\n",
    "\n",
    "bd = bifurcationdiagram(prob, \n",
    "    PALC(), \n",
    "    2, \n",
    "    continuation_bounds; \n",
    "    bothside = true)"
   ]
  },
  {
   "cell_type": "code",
   "execution_count": null,
   "id": "18b9e47f",
   "metadata": {},
   "outputs": [],
   "source": [
    "plot(bd)"
   ]
  },
  {
   "cell_type": "markdown",
   "id": "75f25ab3",
   "metadata": {},
   "source": [
    "# Bufurcation Diagram in $a$"
   ]
  },
  {
   "cell_type": "code",
   "execution_count": null,
   "id": "78453e32",
   "metadata": {},
   "outputs": [],
   "source": [
    "prob1 = BifurcationProblem(\n",
    "    N_dot!, \n",
    "    [4.], \n",
    "    par,\n",
    "    (@optic _.a),   # Here we set the continuation parameter\n",
    "    record_from_solution = (x, p; k...) -> x[1]\n",
    ")\n",
    "\n",
    "prob2 = BifurcationProblem(\n",
    "    N_dot!, \n",
    "    [1.], \n",
    "    par,\n",
    "    (@optic _.a),   # Here we set the continuation parameter\n",
    "    record_from_solution = (x, p; k...) -> x[1]\n",
    ")"
   ]
  },
  {
   "cell_type": "code",
   "execution_count": null,
   "id": "ee67d5f4",
   "metadata": {},
   "outputs": [],
   "source": [
    "continuation_bounds = ContinuationPar(\n",
    "    p_min = 0.5, \n",
    "    p_max = 4., \n",
    "    n_inversion=4)\n",
    "\n",
    "bd1 = bifurcationdiagram(prob1, \n",
    "    PALC(), \n",
    "    2, \n",
    "    continuation_bounds; \n",
    "    bothside = true)\n",
    "\n",
    "bd2 = bifurcationdiagram(prob2, \n",
    "    PALC(), \n",
    "    2, \n",
    "    continuation_bounds; \n",
    "    bothside = true)"
   ]
  },
  {
   "cell_type": "code",
   "execution_count": null,
   "id": "446dc7e8",
   "metadata": {},
   "outputs": [],
   "source": [
    "plot(bd1)\n",
    "plot!(bd2)"
   ]
  },
  {
   "cell_type": "markdown",
   "id": "3efa83a5",
   "metadata": {},
   "source": [
    "# Bifurcation Diagram in $b$"
   ]
  },
  {
   "cell_type": "code",
   "execution_count": null,
   "id": "bbc1b0bd",
   "metadata": {},
   "outputs": [],
   "source": [
    "prob1 = BifurcationProblem(\n",
    "    N_dot!, \n",
    "    [4.], \n",
    "    par,\n",
    "    (@optic _.b),   # Here we set the continuation parameter\n",
    "    record_from_solution = (x, p; k...) -> x[1]\n",
    ")\n",
    "\n",
    "prob2 = BifurcationProblem(\n",
    "    N_dot!, \n",
    "    [1.], \n",
    "    par,\n",
    "    (@optic _.b),   # Here we set the continuation parameter\n",
    "    record_from_solution = (x, p; k...) -> x[1]\n",
    ")"
   ]
  },
  {
   "cell_type": "code",
   "execution_count": null,
   "id": "84b7140e",
   "metadata": {},
   "outputs": [],
   "source": [
    "continuation_bounds = ContinuationPar(\n",
    "    p_min = -2., \n",
    "    p_max = 2., \n",
    "    n_inversion=4)\n",
    "\n",
    "bd1 = bifurcationdiagram(prob1, \n",
    "    PALC(), \n",
    "    2, \n",
    "    continuation_bounds; \n",
    "    bothside = true)\n",
    "\n",
    "bd2 = bifurcationdiagram(prob2, \n",
    "    PALC(), \n",
    "    2, \n",
    "    continuation_bounds; \n",
    "    bothside = true)"
   ]
  },
  {
   "cell_type": "code",
   "execution_count": null,
   "id": "7bea00c8",
   "metadata": {},
   "outputs": [],
   "source": [
    "plot(bd1)\n",
    "plot!(bd2)"
   ]
  }
 ],
 "metadata": {
  "kernelspec": {
   "display_name": "Julia (1.10) 1.10.4",
   "language": "julia",
   "name": "julia-_1.10_-1.10"
  },
  "language_info": {
   "file_extension": ".jl",
   "mimetype": "application/julia",
   "name": "julia",
   "version": "1.10.4"
  }
 },
 "nbformat": 4,
 "nbformat_minor": 5
}
