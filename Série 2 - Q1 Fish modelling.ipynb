{
 "cells": [
  {
   "cell_type": "markdown",
   "id": "88db203b",
   "metadata": {},
   "source": [
    "# Question 1 Modelling fishies\n",
    "This notebook is a toy to mess around with the solutions of the simple fish population model"
   ]
  },
  {
   "cell_type": "markdown",
   "id": "9e0542d6",
   "metadata": {},
   "source": [
    "Import required libraries"
   ]
  },
  {
   "cell_type": "code",
   "execution_count": null,
   "id": "cef76033",
   "metadata": {},
   "outputs": [],
   "source": [
    "import numpy as np\n",
    "from scipy.integrate import solve_ivp  # Used to numerically solve the ODE\n",
    "import matplotlib.pyplot as plt"
   ]
  },
  {
   "cell_type": "code",
   "execution_count": null,
   "id": "e921643d",
   "metadata": {},
   "outputs": [],
   "source": [
    "# Library to allow for interactive plots\n",
    "from IPython.display import display\n",
    "from ipywidgets import interact, widgets, interactive"
   ]
  },
  {
   "cell_type": "markdown",
   "id": "436948a5",
   "metadata": {},
   "source": [
    "Define the function (right hand side of the eqution)"
   ]
  },
  {
   "cell_type": "code",
   "execution_count": null,
   "id": "c6862a22",
   "metadata": {},
   "outputs": [],
   "source": [
    "def fish_model(t=0, P=1, a=1, N=1, H=1):\n",
    "    return a * P * (1 - P/N) - H"
   ]
  },
  {
   "cell_type": "markdown",
   "id": "e6d835aa",
   "metadata": {},
   "source": [
    "And now the simplified change of variables (CV) version"
   ]
  },
  {
   "cell_type": "code",
   "execution_count": null,
   "id": "32d11860",
   "metadata": {},
   "outputs": [],
   "source": [
    "def fish_model_cv(t=0, x=1, h=1):\n",
    "    return x * (1 - x) - h"
   ]
  },
  {
   "cell_type": "markdown",
   "id": "0af56856",
   "metadata": {},
   "source": [
    "We define the equilibria and the stability properties for the simplified version"
   ]
  },
  {
   "cell_type": "code",
   "execution_count": null,
   "id": "148b0661",
   "metadata": {},
   "outputs": [],
   "source": [
    "# zeros of above function\n",
    "def calculate_equlibria(h=1):\n",
    "    eq1 = (1 + np.sqrt(1 - 4 * h)) / 2\n",
    "    eq2 = (1 - np.sqrt(1 - 4 * h)) / 2\n",
    "    return (eq1, eq2)\n",
    "\n",
    "# Stability of solutions (value of the derivative)\n",
    "def calculate_stability(eq):\n",
    "    eq1, eq2 = eq\n",
    "    output = (\n",
    "        1 - 2 * eq1,\n",
    "        1 - 2 * eq2,\n",
    "    )\n",
    "    return output"
   ]
  },
  {
   "cell_type": "markdown",
   "id": "6314acfe",
   "metadata": {},
   "source": [
    "Lets plot this for different values of $a,~b,~r$"
   ]
  },
  {
   "cell_type": "code",
   "execution_count": null,
   "id": "dbe0a28b",
   "metadata": {},
   "outputs": [],
   "source": [
    "%matplotlib notebook"
   ]
  },
  {
   "cell_type": "markdown",
   "id": "bdf69d1b",
   "metadata": {},
   "source": [
    "# Plotting simplified equation"
   ]
  },
  {
   "cell_type": "code",
   "execution_count": null,
   "id": "0d5843e7",
   "metadata": {},
   "outputs": [],
   "source": [
    "x = np.linspace(-0.2, 2, 100)\n",
    "\n",
    "fig, ax = plt.subplots(figsize=(8, 5))\n",
    "line, = ax.plot(x, fish_model_cv(x=x))  # Initial plot\n",
    "ax.set_xlabel('x')\n",
    "ax.set_ylabel('dx/dt')\n",
    "\n",
    "# set zero line\n",
    "ax.hlines(0, xmin=-0.2, xmax=2, color='lightgrey')\n",
    "ax.vlines(0, ymin=-0.2, ymax=2, color='lightgrey')\n",
    "ax.set_xlim(-0.2, 1.2)\n",
    "ax.set_ylim(-0.2, 1.2)\n",
    "\n",
    "\n",
    "def update1(h):\n",
    "    line.set_ydata(fish_model_cv(x=x, h=h))\n",
    "    fig.canvas.draw_idle()\n",
    "    \n",
    "slid1 = interactive(update1, \n",
    "         h=widgets.FloatSlider(min=-5, max=5, step=0.05, value=0.25))\n",
    "display(slid1)"
   ]
  },
  {
   "cell_type": "markdown",
   "id": "3100e7c0",
   "metadata": {},
   "source": [
    "## Plotting the phase space\n",
    "This plots a bunch of trajectories starting at $t=0$, with $x(t=0)\\in[-0.2, 2.2]$, and shows how these initial conditions evolve in time. Note the colours of the trajectories have no meaning and are just to help keep them seperate. The equilibria are shown by grey lines, where the unstable solution is dotted."
   ]
  },
  {
   "cell_type": "code",
   "execution_count": null,
   "id": "8e4ce36e",
   "metadata": {
    "scrolled": false
   },
   "outputs": [],
   "source": [
    "fig, ax = plt.subplots(figsize=(8, 5))\n",
    "\n",
    "t = np.linspace(0, 2, 50)\n",
    "\n",
    "values  = np.linspace(0.1, 2.2, 10)                      \n",
    "vcolors = plt.cm.autumn_r(np.linspace(0.3, 1., len(values)))\n",
    "                          \n",
    "# Plot trajectories\n",
    "lines = list()\n",
    "for v, col in zip(values, vcolors):\n",
    "    X = solve_ivp(fish_model_cv, (0, 2), [v], args=(-1,), t_eval=t)\n",
    "    line1, = ax.plot(X.t, X.y.T, color=col)\n",
    "    lines.append(line1)\n",
    "    \n",
    "# plot Equilibria\n",
    "lines_eq = list()\n",
    "eq = calculate_equlibria()\n",
    "for q in eq:\n",
    "    line1, = ax.plot(t, q * np.ones(len(t)), color='lightgrey')\n",
    "    lines_eq.append(line1)\n",
    "\n",
    "def update3(h):\n",
    "    print(\"1^2-4h: \" + str(1 ** 2 - 4 * h))\n",
    "    for i, v in enumerate(values):\n",
    "        X = solve_ivp(fish_model_cv, (0, 2), [v], args=(h,), t_eval=t)\n",
    "        lines[i].set_ydata(np.maximum(X.y.T, -1))\n",
    "    \n",
    "    eq = calculate_equlibria(h)\n",
    "    stab = calculate_stability(eq)\n",
    "    \n",
    "    for i, (q, s) in enumerate(zip(eq, stab)):\n",
    "        if s > 0:\n",
    "            line_sty = \":\"\n",
    "        else:\n",
    "            line_sty = \"solid\"\n",
    "        lines_eq[i].set_ydata(q * np.ones(len(t)))\n",
    "        lines_eq[i].set_linestyle(line_sty)\n",
    "    \n",
    "    fig.canvas.draw_idle()\n",
    "\n",
    "\n",
    "plt.xlabel('t')\n",
    "plt.ylabel('x')\n",
    "\n",
    "slid3 = interactive(update3, \n",
    "         h=widgets.FloatSlider(min=-1.5, max=0.4, step=0.05, value=-1))\n",
    "display(slid3)"
   ]
  },
  {
   "cell_type": "markdown",
   "id": "efd40a5a",
   "metadata": {},
   "source": [
    "# Improved Fish Model"
   ]
  },
  {
   "cell_type": "code",
   "execution_count": null,
   "id": "89bbf4c6",
   "metadata": {},
   "outputs": [],
   "source": [
    "def fish_model_imporved(t=0, x=1, h=1, b=1):\n",
    "    return x * (1 - x) - h * x / (b + x)"
   ]
  },
  {
   "cell_type": "code",
   "execution_count": null,
   "id": "86b41881",
   "metadata": {},
   "outputs": [],
   "source": [
    "def fish_model_plotting(t=0, x=1, h=1, b=1):\n",
    "    sol = fish_model_imporved(t, x, h, b)\n",
    "    \n",
    "    # Code to remove asymptots for plotting purposes\n",
    "    ab_sol = np.abs(sol)\n",
    "    if np.sum(ab_sol > 5) > 0:\n",
    "        sol[ab_sol > 5] = np.nan\n",
    "    return sol"
   ]
  },
  {
   "cell_type": "code",
   "execution_count": null,
   "id": "cd32ff20",
   "metadata": {},
   "outputs": [],
   "source": [
    "# zeros of above function\n",
    "def calculate_equlibria(h=1, b=1):\n",
    "    eq1 = 0\n",
    "    eq2 = (-(b - 1) + np.sqrt((b - 1)**2 - 4 * (h - b))) / 2\n",
    "    eq3 = (-(b - 1) - np.sqrt((b - 1)**2 - 4 * (h - b))) / 2\n",
    "    return (eq1, eq2, eq3)\n",
    "\n",
    "# Stability of solutions (value of the derivative)\n",
    "def calculate_stability(eqs, h=1, b=1):\n",
    "    output = [1 - 2 * eq - h * b / (b + eq)**2 for eq in eqs]\n",
    "    return output"
   ]
  },
  {
   "cell_type": "code",
   "execution_count": null,
   "id": "478f2d83",
   "metadata": {},
   "outputs": [],
   "source": [
    "x = np.linspace(-0.2, 3, 200)\n",
    "\n",
    "fig, ax = plt.subplots(figsize=(8, 5))\n",
    "\n",
    "line, = ax.plot(x, fish_model_plotting(x=x))  # Initial plot\n",
    "ax.set_xlabel('x')\n",
    "ax.set_ylabel('dx/dt')\n",
    "\n",
    "# set zero line\n",
    "ax.hlines(0, xmin=-0.2, xmax=3, color='lightgrey')\n",
    "ax.vlines(0, ymin=-0.2, ymax=2, color='lightgrey')\n",
    "ax.set_xlim(-0.2, 3.2)\n",
    "ax.set_ylim(-0.2, 1.2)\n",
    "\n",
    "\n",
    "def update1(h, b):\n",
    "    print(\"(b-1)^2: \" + str((b - 1)**2))\n",
    "    print(\"4(h - b): \" + str(4 * (h - b)))\n",
    "    line.set_ydata(fish_model_plotting(x=x, h=h, b=b))\n",
    "    fig.canvas.draw_idle()\n",
    "    \n",
    "slid1 = interactive(update1, \n",
    "         h=widgets.FloatSlider(min=-5, max=5, step=0.01, value=-1),\n",
    "         b=widgets.FloatSlider(min=-5, max=5, step=0.01, value=-1))\n",
    "display(slid1)"
   ]
  },
  {
   "cell_type": "code",
   "execution_count": null,
   "id": "69a61bfd",
   "metadata": {
    "scrolled": false
   },
   "outputs": [],
   "source": [
    "fig, ax = plt.subplots(figsize=(8, 5))\n",
    "\n",
    "t_max = 1\n",
    "t = np.linspace(0, t_max, 50)\n",
    "\n",
    "values  = np.linspace(-0.4, 2.2, 10)                      \n",
    "vcolors = plt.cm.autumn_r(np.linspace(0.3, 1., len(values)))\n",
    "                          \n",
    "# Plot trajectories\n",
    "lines = list()\n",
    "for v, col in zip(values, vcolors):\n",
    "    X = solve_ivp(fish_model_imporved, (0, t_max), [v], args=(1,1), t_eval=t)\n",
    "    line1, = ax.plot(X.t, X.y.T, color=col)\n",
    "    lines.append(line1)\n",
    "    \n",
    "# plot Equilibria\n",
    "lines_eq = list()\n",
    "eq = calculate_equlibria()\n",
    "for q in eq:\n",
    "    line1, = ax.plot(t, q * np.ones(len(t)), color='lightgrey')\n",
    "    lines_eq.append(line1)\n",
    "\n",
    "def update3(h, b):\n",
    "    print(\"1^2-4h: \" + str(1 ** 2 - 4 * h))\n",
    "    for i, v in enumerate(values):\n",
    "        X = solve_ivp(fish_model_imporved, (0, t_max), [v], args=(h,b), t_eval=t, method='RK45')\n",
    "        if X.success:\n",
    "            lines[i].set_ydata(X.y.T)\n",
    "    \n",
    "    eq = calculate_equlibria(h, b)\n",
    "    stab = calculate_stability(eq, h, b)\n",
    "    print(stab)\n",
    "    \n",
    "    for i, (q, s) in enumerate(zip(eq, stab)):\n",
    "        if s > 0:\n",
    "            line_sty = \":\"\n",
    "        else:\n",
    "            line_sty = \"solid\"\n",
    "        lines_eq[i].set_ydata(q * np.ones(len(t)))\n",
    "        lines_eq[i].set_linestyle(line_sty)\n",
    "    \n",
    "    fig.canvas.draw_idle()\n",
    "\n",
    "\n",
    "plt.xlabel('t')\n",
    "plt.ylabel('x')\n",
    "\n",
    "slid3 = interactive(update3, \n",
    "        h=widgets.FloatSlider(min=-2, max=4, step=0.25, value=1),\n",
    "        b=widgets.FloatSlider(min=-2, max=4, step=0.25, value=0.5))\n",
    "display(slid3)"
   ]
  },
  {
   "cell_type": "code",
   "execution_count": null,
   "id": "ff1d97e2",
   "metadata": {},
   "outputs": [],
   "source": []
  },
  {
   "cell_type": "code",
   "execution_count": null,
   "id": "eac8f018",
   "metadata": {},
   "outputs": [],
   "source": []
  }
 ],
 "metadata": {
  "kernelspec": {
   "display_name": "Python 3 (ipykernel)",
   "language": "python",
   "name": "python3"
  },
  "language_info": {
   "codemirror_mode": {
    "name": "ipython",
    "version": 3
   },
   "file_extension": ".py",
   "mimetype": "text/x-python",
   "name": "python",
   "nbconvert_exporter": "python",
   "pygments_lexer": "ipython3",
   "version": "3.8.10"
  }
 },
 "nbformat": 4,
 "nbformat_minor": 5
}
