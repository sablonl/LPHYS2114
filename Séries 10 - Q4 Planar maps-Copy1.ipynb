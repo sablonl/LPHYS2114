{
 "cells": [
  {
   "cell_type": "markdown",
   "id": "bee43214",
   "metadata": {},
   "source": [
    "# Planar maps"
   ]
  },
  {
   "cell_type": "code",
   "execution_count": 3,
   "id": "8c9a4a80",
   "metadata": {},
   "outputs": [],
   "source": [
    "import numpy as np\n",
    "import matplotlib.pyplot as plt"
   ]
  },
  {
   "cell_type": "markdown",
   "id": "d0a11577",
   "metadata": {},
   "source": [
    "Define the map"
   ]
  },
  {
   "cell_type": "code",
   "execution_count": 4,
   "id": "0d3b3921",
   "metadata": {},
   "outputs": [],
   "source": [
    "A = np.array([\n",
    "    [0, 1],\n",
    "    [-1, 0]\n",
    "])"
   ]
  },
  {
   "cell_type": "code",
   "execution_count": 5,
   "id": "509aa0a8",
   "metadata": {},
   "outputs": [
    {
     "data": {
      "text/plain": [
       "array([[ 0,  1],\n",
       "       [-1,  0]])"
      ]
     },
     "execution_count": 5,
     "metadata": {},
     "output_type": "execute_result"
    }
   ],
   "source": [
    "A"
   ]
  },
  {
   "cell_type": "code",
   "execution_count": 6,
   "id": "c6e94a18",
   "metadata": {},
   "outputs": [],
   "source": [
    "def planar_map(x_n, mat=A):\n",
    "    return A @ x_n"
   ]
  },
  {
   "cell_type": "markdown",
   "id": "8a7715af",
   "metadata": {},
   "source": [
    "Plot the phase space"
   ]
  },
  {
   "cell_type": "code",
   "execution_count": 7,
   "id": "f26faff4",
   "metadata": {},
   "outputs": [
    {
     "data": {
      "text/plain": [
       "array([0.+1.j, 0.-1.j])"
      ]
     },
     "execution_count": 7,
     "metadata": {},
     "output_type": "execute_result"
    }
   ],
   "source": [
    "np.linalg.eigvals(A)"
   ]
  },
  {
   "cell_type": "code",
   "execution_count": 8,
   "id": "41f59c07",
   "metadata": {},
   "outputs": [],
   "source": [
    "eigvals, eigvec = np.linalg.eig(A)"
   ]
  },
  {
   "cell_type": "code",
   "execution_count": 9,
   "id": "cb13bf73",
   "metadata": {},
   "outputs": [
    {
     "data": {
      "text/plain": [
       "array([0.+1.j, 0.-1.j])"
      ]
     },
     "execution_count": 9,
     "metadata": {},
     "output_type": "execute_result"
    }
   ],
   "source": [
    "eigvals"
   ]
  },
  {
   "cell_type": "markdown",
   "id": "601c10a5",
   "metadata": {},
   "source": [
    "### Trajectories"
   ]
  },
  {
   "cell_type": "code",
   "execution_count": 22,
   "id": "f8847c65",
   "metadata": {},
   "outputs": [],
   "source": [
    "ics = list()\n",
    "ics.append(np.array([0, 1]))\n",
    "ics.append(np.array([0.5, 0.5]))"
   ]
  },
  {
   "cell_type": "code",
   "execution_count": 25,
   "id": "4ed59938",
   "metadata": {},
   "outputs": [],
   "source": [
    "number_its = 10\n",
    "trajs = list()\n",
    "\n",
    "for ic in ics:\n",
    "    temp_traj = list()\n",
    "    temp_traj.append(ic)\n",
    "    prev_it = ic\n",
    "    for _ in range(number_its):\n",
    "        temp_traj.append(planar_map(prev_it))\n",
    "        prev_it = temp_traj[-1]\n",
    "        \n",
    "        # break to stop explosions\n",
    "        if np.linalg.norm(temp_traj[-1]) > 100:\n",
    "            break\n",
    "            \n",
    "        # break to stop explosions\n",
    "        if np.linalg.norm(temp_traj[-1]) < 1e-5:\n",
    "            break\n",
    "    \n",
    "    trajs.append(temp_traj)"
   ]
  },
  {
   "cell_type": "code",
   "execution_count": 26,
   "id": "009a3fbe",
   "metadata": {},
   "outputs": [
    {
     "data": {
      "image/png": "[encoded data removed]",
      "text/plain": [
       "<Figure size 1080x1080 with 1 Axes>"
      ]
     },
     "metadata": {
      "needs_background": "light"
     },
     "output_type": "display_data"
    }
   ],
   "source": [
    "fig, ax = plt.subplots(figsize=(15, 15))\n",
    "# plot axis\n",
    "ax.hlines(0, -10, 10, color='lightgrey')\n",
    "ax.vlines(0, -10, 10, color='lightgrey')\n",
    "\n",
    "# plot eigan directions\n",
    "# ax.plot(v1[:, 0], v1[:, 1], color='black', zorder=1)\n",
    "# ax.plot(v2[:, 0], v2[:, 1], color='black', zorder=1)\n",
    "\n",
    "for i, t in enumerate(trajs):\n",
    "    ax.scatter(*t[0], s=100, marker='x', color=plt.get_cmap('Set2')(i), zorder=2)\n",
    "    for s in t[1:]:\n",
    "        ax.scatter(*s, s=100, color=plt.get_cmap('Set2')(i), zorder=2)\n",
    "\n",
    "ax.set_xlim(-1.5, 1.5)\n",
    "ax.set_ylim(-1.5, 1.5)\n",
    "plt.show()"
   ]
  },
  {
   "cell_type": "code",
   "execution_count": null,
   "id": "1c831985",
   "metadata": {},
   "outputs": [],
   "source": []
  }
 ],
 "metadata": {
  "kernelspec": {
   "display_name": "Python 3 (ipykernel)",
   "language": "python",
   "name": "python3"
  },
  "language_info": {
   "codemirror_mode": {
    "name": "ipython",
    "version": 3
   },
   "file_extension": ".py",
   "mimetype": "text/x-python",
   "name": "python",
   "nbconvert_exporter": "python",
   "pygments_lexer": "ipython3",
   "version": "3.8.10"
  }
 },
 "nbformat": 4,
 "nbformat_minor": 5
}
