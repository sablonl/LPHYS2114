{
 "cells": [
  {
   "cell_type": "code",
   "execution_count": 1,
   "id": "862439a1",
   "metadata": {},
   "outputs": [],
   "source": [
    "import numpy as np\n",
    "from matplotlib import rc\n",
    "import matplotlib.pyplot as plt"
   ]
  },
  {
   "cell_type": "code",
   "execution_count": 2,
   "id": "5de1964e",
   "metadata": {},
   "outputs": [],
   "source": [
    "from IPython.display import display\n",
    "from ipywidgets import interact, widgets, interactive"
   ]
  },
  {
   "cell_type": "code",
   "execution_count": 3,
   "id": "e42d4ca7",
   "metadata": {},
   "outputs": [],
   "source": [
    "# Code mainly copied from : https://scipython.com/blog/cobweb-plots/\n",
    "\n",
    "# Use LaTeX throughout the figure for consistency\n",
    "rc('font', **{'family': 'serif', 'serif': ['Computer Modern'], 'size': 16})\n",
    "rc('text', usetex=True)\n",
    "# Figure dpi\n",
    "dpi = 72"
   ]
  },
  {
   "cell_type": "code",
   "execution_count": 4,
   "id": "f855007f",
   "metadata": {},
   "outputs": [],
   "source": [
    "def base_func(x):\n",
    "    return x**2 - 2\n",
    "\n",
    "def base_func_prime(x):\n",
    "    return 2 * x"
   ]
  },
  {
   "cell_type": "code",
   "execution_count": 5,
   "id": "c8c95dbc",
   "metadata": {},
   "outputs": [],
   "source": [
    "def newton_rhapson(f, f_prime, x):\n",
    "    return x - f(x) / f_prime(x)"
   ]
  },
  {
   "cell_type": "code",
   "execution_count": 6,
   "id": "6e4e6c34",
   "metadata": {},
   "outputs": [],
   "source": [
    "cmap = plt.get_cmap('Reds')\n",
    "\n",
    "def plot_traj(x0):\n",
    "    nmax=40\n",
    "    \"\"\"Make a cobweb plot.\n",
    "\n",
    "    Plot y = f(x; r) and y = x for 0 <= x <= 1, and illustrate the behaviour of\n",
    "    iterating x = f(x) starting at x = x0. r is a parameter to the function.\n",
    "\n",
    "    \"\"\"\n",
    "    if x0 == 0:\n",
    "        x0 = 0.01\n",
    "    \n",
    "    x = np.linspace(-2, 2, 500)\n",
    "    fig, ax = plt.subplots(1, 2, figsize=(20, 10), dpi=dpi)\n",
    "\n",
    "    # Plot y = f(x) and y = x\n",
    "    ax[1].plot(base_func(x), x, c='#444444', lw=2)\n",
    "    ax[1].vlines(0, -2.5, 2.5)\n",
    "\n",
    "    # Iterate x = f(x) for nmax steps, starting at (x0, 0).\n",
    "    py = np.empty((nmax+1))\n",
    "    py[0] = x0\n",
    "    for n in range(1, nmax, 2):\n",
    "        py[n] = newton_rhapson(base_func, base_func_prime, py[n-1])\n",
    "        py[n+1] = py[n]\n",
    "\n",
    "    # Plot the path traced out by the iteration.\n",
    "    ax[0].plot(py, c='b', alpha=0.7)\n",
    "    \n",
    "    cols = cmap(np.linspace(0.2, 1, len(py)))\n",
    "    ax[1].scatter(np.zeros_like(py), py, color=cols, s=100, marker='o')\n",
    "    \n",
    "    # Annotate and tidy the plot.\n",
    "    ax[0].set_xlabel('$x$')\n",
    "    ax[0].set_ylim(-2, 2)\n",
    "    ax[1].set_ylim(-2, 2)"
   ]
  },
  {
   "cell_type": "code",
   "execution_count": 12,
   "id": "cb6bb946",
   "metadata": {},
   "outputs": [
    {
     "data": {
      "application/vnd.jupyter.widget-view+json": {
       "model_id": "f8ff129abb0d4bd8a6024912133a20dd",
       "version_major": 2,
       "version_minor": 0
      },
      "text/plain": [
       "interactive(children=(FloatSlider(value=0.5, description='x0', max=1.0, min=-1.0), Output()), _dom_classes=('w…"
      ]
     },
     "metadata": {},
     "output_type": "display_data"
    }
   ],
   "source": [
    "slid1 = interactive(plot_traj, \n",
    "         x0=widgets.FloatSlider(min=-1, max=1, step=0.1, value=0.5))\n",
    "display(slid1)"
   ]
  },
  {
   "cell_type": "code",
   "execution_count": 13,
   "id": "05e76f4e",
   "metadata": {},
   "outputs": [
    {
     "name": "stdout",
     "output_type": "stream",
     "text": [
      "1.0 0.41421356237309515\n",
      "1.5 0.08578643762690485\n",
      "1.4166666666666667 0.002453104293571595\n",
      "1.4142156862745099 2.1239014147411694e-06\n",
      "1.4142135623746899 1.5947243525715749e-12\n",
      "1.4142135623730951 0.0\n",
      "1.414213562373095 2.220446049250313e-16\n",
      "1.4142135623730951 0.0\n",
      "1.414213562373095 2.220446049250313e-16\n",
      "1.4142135623730951 0.0\n"
     ]
    }
   ],
   "source": [
    "x_0 = 1.\n",
    "\n",
    "for i in range(10):\n",
    "    if i == 0:\n",
    "        x_n = x_0\n",
    "    else:\n",
    "        x_n = newton_rhapson(base_func, base_func_prime, x_n) \n",
    "    print(x_n, np.abs(x_n - np.sqrt(2)))"
   ]
  },
  {
   "cell_type": "code",
   "execution_count": null,
   "id": "f65e8ba8",
   "metadata": {},
   "outputs": [],
   "source": []
  }
 ],
 "metadata": {
  "kernelspec": {
   "display_name": "Python 3 (ipykernel)",
   "language": "python",
   "name": "python3"
  },
  "language_info": {
   "codemirror_mode": {
    "name": "ipython",
    "version": 3
   },
   "file_extension": ".py",
   "mimetype": "text/x-python",
   "name": "python",
   "nbconvert_exporter": "python",
   "pygments_lexer": "ipython3",
   "version": "3.8.10"
  }
 },
 "nbformat": 4,
 "nbformat_minor": 5
}
