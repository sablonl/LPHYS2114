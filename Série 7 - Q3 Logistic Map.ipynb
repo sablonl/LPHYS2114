{
 "cells": [
  {
   "cell_type": "code",
   "execution_count": null,
   "id": "862439a1",
   "metadata": {},
   "outputs": [],
   "source": [
    "import numpy as np\n",
    "from matplotlib import rc\n",
    "import matplotlib.pyplot as plt"
   ]
  },
  {
   "cell_type": "code",
   "execution_count": null,
   "id": "5de1964e",
   "metadata": {},
   "outputs": [],
   "source": [
    "from IPython.display import display\n",
    "from ipywidgets import interact, widgets, interactive"
   ]
  },
  {
   "cell_type": "code",
   "execution_count": null,
   "id": "e42d4ca7",
   "metadata": {},
   "outputs": [],
   "source": [
    "# Code mainly copied from : https://scipython.com/blog/cobweb-plots/\n",
    "\n",
    "# Use LaTeX throughout the figure for consistency\n",
    "rc('font', **{'family': 'serif', 'serif': ['Computer Modern'], 'size': 16})\n",
    "rc('text', usetex=True)\n",
    "# Figure dpi\n",
    "dpi = 72"
   ]
  },
  {
   "cell_type": "code",
   "execution_count": null,
   "id": "6e4e6c34",
   "metadata": {},
   "outputs": [],
   "source": [
    "def plot_cobweb(f, r, x0, nmax=40):\n",
    "    \"\"\"Make a cobweb plot.\n",
    "\n",
    "    Plot y = f(x; r) and y = x for 0 <= x <= 1, and illustrate the behaviour of\n",
    "    iterating x = f(x) starting at x = x0. r is a parameter to the function.\n",
    "\n",
    "    \"\"\"\n",
    "    x = np.linspace(0, 1, 500)\n",
    "    fig = plt.figure(figsize=(1000/dpi, 600/dpi), dpi=dpi)\n",
    "    ax = fig.add_subplot(111)\n",
    "\n",
    "    # Plot y = f(x) and y = x\n",
    "    ax.plot(x, f(x, r), c='#444444', lw=2)\n",
    "    ax.plot(x, x, c='#444444', lw=2)\n",
    "\n",
    "    # Iterate x = f(x) for nmax steps, starting at (x0, 0).\n",
    "    px, py = np.empty((2,nmax+1,2))\n",
    "    px[0], py[0] = x0, 0\n",
    "    for n in range(1, nmax, 2):\n",
    "        px[n] = px[n-1]\n",
    "        py[n] = f(px[n-1], r)\n",
    "        px[n+1] = py[n]\n",
    "        py[n+1] = py[n]\n",
    "\n",
    "    # Plot the path traced out by the iteration.\n",
    "    ax.plot(px, py, c='b', alpha=0.7)\n",
    "\n",
    "    # Annotate and tidy the plot.\n",
    "    ax.set_xlabel('$x$')\n",
    "#     ax.set_ylabel(f.latex_label)\n",
    "    ax.set_title('$x_0 = {:.1}, r = {:.2}$'.format(x0, r))"
   ]
  },
  {
   "cell_type": "code",
   "execution_count": null,
   "id": "e7d6c3fe",
   "metadata": {},
   "outputs": [],
   "source": [
    "def plot_traj(f, r, x0, nmax=40):\n",
    "    \"\"\"Make a cobweb plot.\n",
    "\n",
    "    Plot y = f(x; r) and y = x for 0 <= x <= 1, and illustrate the behaviour of\n",
    "    iterating x = f(x) starting at x = x0. r is a parameter to the function.\n",
    "\n",
    "    \"\"\"\n",
    "    x = np.linspace(0, 1, 500)\n",
    "    fig = plt.figure(figsize=(1000/dpi, 600/dpi), dpi=dpi)\n",
    "    ax = fig.add_subplot(111)\n",
    "\n",
    "    # Iterate x = f(x) for nmax steps, starting at (x0, 0).\n",
    "    py = np.empty((nmax))\n",
    "    py[0] = x0\n",
    "    for n in range(1, nmax):\n",
    "        py[n] = f(py[n-1], r)\n",
    "\n",
    "    # Plot the path traced out by the iteration.\n",
    "    ax.plot(py, c='b', alpha=0.7)\n",
    "    ax.set_ylim(0, 1)\n",
    "\n",
    "    # Annotate and tidy the plot.\n",
    "    ax.set_xlabel('$x$')\n",
    "#     ax.set_ylabel(f.latex_label)\n",
    "    ax.set_title('$x_0 = {:.1}, r = {:.2}$'.format(x0, r))"
   ]
  },
  {
   "cell_type": "code",
   "execution_count": null,
   "id": "b3fc9fd6",
   "metadata": {},
   "outputs": [],
   "source": [
    "# The logistic map, f(x) = rx(1-x).\n",
    "def logistic_map(x_n, r=3.8):\n",
    "    return r * x_n * (1 - x_n)"
   ]
  },
  {
   "cell_type": "code",
   "execution_count": null,
   "id": "cc70d859",
   "metadata": {},
   "outputs": [],
   "source": [
    "def update_cobweb(r, x):\n",
    "    plot_cobweb(logistic_map, r, x, 200)\n",
    "    \n",
    "def update_traj(r, x):\n",
    "    plot_traj(logistic_map, r, x, 200)"
   ]
  },
  {
   "cell_type": "code",
   "execution_count": null,
   "id": "cb6bb946",
   "metadata": {},
   "outputs": [],
   "source": [
    "slid1 = interactive(update_cobweb, \n",
    "         r=widgets.FloatSlider(min=0, max=4, step=0.1, value=1), \n",
    "         x=widgets.FloatSlider(min=0.01, max=1, step=0.01, value=0.5))\n",
    "display(slid1)"
   ]
  },
  {
   "cell_type": "code",
   "execution_count": null,
   "id": "1887a5bb",
   "metadata": {},
   "outputs": [],
   "source": [
    "slid2 = interactive(update_traj, \n",
    "         r=widgets.FloatSlider(min=0, max=4, step=0.1, value=1), \n",
    "         x=widgets.FloatSlider(min=0.01, max=1, step=0.01, value=0.5))\n",
    "display(slid2)"
   ]
  },
  {
   "cell_type": "code",
   "execution_count": null,
   "id": "a1d60626",
   "metadata": {},
   "outputs": [],
   "source": []
  }
 ],
 "metadata": {
  "kernelspec": {
   "display_name": "Python 3 (ipykernel)",
   "language": "python",
   "name": "python3"
  },
  "language_info": {
   "codemirror_mode": {
    "name": "ipython",
    "version": 3
   },
   "file_extension": ".py",
   "mimetype": "text/x-python",
   "name": "python",
   "nbconvert_exporter": "python",
   "pygments_lexer": "ipython3",
   "version": "3.8.10"
  }
 },
 "nbformat": 4,
 "nbformat_minor": 5
}
