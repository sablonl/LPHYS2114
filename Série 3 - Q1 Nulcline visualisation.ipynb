{
 "cells": [
  {
   "cell_type": "markdown",
   "id": "88db203b",
   "metadata": {},
   "source": [
    "# Question 1 Visualising nullclines\n",
    "This notebook is a toy to mess around with nullclines in a 2D model"
   ]
  },
  {
   "cell_type": "markdown",
   "id": "9e0542d6",
   "metadata": {},
   "source": [
    "Import required libraries"
   ]
  },
  {
   "cell_type": "code",
   "execution_count": null,
   "id": "cef76033",
   "metadata": {},
   "outputs": [],
   "source": [
    "import numpy as np\n",
    "from scipy.integrate import solve_ivp  # Used to numerically solve the ODE\n",
    "import matplotlib.pyplot as plt"
   ]
  },
  {
   "cell_type": "code",
   "execution_count": null,
   "id": "e921643d",
   "metadata": {},
   "outputs": [],
   "source": [
    "# Library to allow for interactive plots\n",
    "from IPython.display import display\n",
    "from ipywidgets import interact, widgets, interactive"
   ]
  },
  {
   "cell_type": "markdown",
   "id": "436948a5",
   "metadata": {},
   "source": [
    "Define the function (right hand side of the eqution)."
   ]
  },
  {
   "cell_type": "code",
   "execution_count": null,
   "id": "c6862a22",
   "metadata": {},
   "outputs": [],
   "source": [
    "x_ini = np.array([1., 1.])\n",
    "\n",
    "def lotka_volterra(t=0, x=x_ini, a=1, b=1, c=1, d=1):\n",
    "    x_1, x_2 = x\n",
    "    x_dot = np.empty_like(x)\n",
    "    x_dot[0] = a * x_1 * (1 - x_1) - b * x_1 * x_2\n",
    "    x_dot[1] = c * x_2 * (1 - x_2) - d * x_1 * x_2\n",
    "    return x_dot"
   ]
  },
  {
   "cell_type": "code",
   "execution_count": null,
   "id": "b8126338",
   "metadata": {},
   "outputs": [],
   "source": [
    "def lotka_volterra_jac(x=x_ini, a=1, b=1, c=1, d=1):\n",
    "    x_1, x_2 = x\n",
    "    jac = np.empty((2, 2))\n",
    "    jac[0, 0] = a * (1 - 2 * x_1) - b * x_2\n",
    "    jac[0, 1] = - \n",
    "    \n",
    "    jac[1, 0] = - d * x_2\n",
    "    jac[1, 1] = c * (1 - 2 * x_2) - d * x_1\n",
    "    \n",
    "    return jac"
   ]
  },
  {
   "cell_type": "markdown",
   "id": "29e4e913",
   "metadata": {},
   "source": [
    "We define the zeros of the function above (found analytically but you could also do this numerically)."
   ]
  },
  {
   "cell_type": "code",
   "execution_count": null,
   "id": "77c48855",
   "metadata": {},
   "outputs": [],
   "source": [
    "def lv_equilibria(a=1, b=1, c=1, d=1):\n",
    "    # returned as a list of points (x_1, x_2)\n",
    "    eq = [\n",
    "        [0, 0],\n",
    "        [1, 0],\n",
    "        [0, 1],   \n",
    "    ]\n",
    "    if b * d - c * a != 0:\n",
    "        eq.append([c * (b - a) / (b * d - c * a), a * (d - c) / (b * d - c * a)])\n",
    "    return np.array(eq)"
   ]
  },
  {
   "cell_type": "markdown",
   "id": "f16e5090",
   "metadata": {},
   "source": [
    "Determine their local stability using the jacobian"
   ]
  },
  {
   "cell_type": "code",
   "execution_count": null,
   "id": "71004c41",
   "metadata": {},
   "outputs": [],
   "source": [
    "def lv_eq_stability_marker(eq=None, a=1, b=1, c=1, d=1):\n",
    "    if eq is None:\n",
    "        eq = lv_equilibria(a, b, c, d)\n",
    "    stab = list()\n",
    "    for e in eq:\n",
    "        j_eq = lotka_volterra_jac(e, a, b, c, d)\n",
    "        eig_vals = np.linalg.eigvals(j_eq)\n",
    "        if isinstance(eig_vals[0], float):\n",
    "            if np.sum(eig_vals < 0) == 2:\n",
    "                stab.append('o')\n",
    "            else:\n",
    "                stab.append('x')\n",
    "        else:\n",
    "            stab.append('+')\n",
    "    return stab"
   ]
  },
  {
   "cell_type": "markdown",
   "id": "0af56856",
   "metadata": {},
   "source": [
    "We define the nullclines (analytically found in class)"
   ]
  },
  {
   "cell_type": "code",
   "execution_count": null,
   "id": "148b0661",
   "metadata": {},
   "outputs": [],
   "source": [
    "# define the values of x1 that we work over:\n",
    "x1 = np.linspace(-0.1, 1.2, 100)\n",
    "\n",
    "x_m = np.linspace(0, 1, 100)\n",
    "X, Y = np.meshgrid(x_m, x_m)\n",
    "\n",
    "def nc1(x=x1, a=1, b=1, c=1, d=1):\n",
    "    x2 = a / b * (1 - x1)\n",
    "    return x2\n",
    "\n",
    "\n",
    "def nc2(x=x1, a=1, b=1, c=1, d=1):\n",
    "    x2 =  -d / c  * x1 + 1\n",
    "    return x2"
   ]
  },
  {
   "cell_type": "code",
   "execution_count": null,
   "id": "42053b5b",
   "metadata": {},
   "outputs": [],
   "source": [
    "U, V = lotka_volterra(t=0, x=[X, Y], a=1, b=2, c=1, d=3)"
   ]
  },
  {
   "cell_type": "code",
   "execution_count": null,
   "id": "c6653034",
   "metadata": {},
   "outputs": [],
   "source": [
    "fig, axs = plt.subplots(1, 1, figsize=(10, 10))\n",
    "axs.streamplot(X, Y, U, V, density=[0.7, 1])\n",
    "plt.show()"
   ]
  },
  {
   "cell_type": "markdown",
   "id": "6314acfe",
   "metadata": {},
   "source": [
    "Lets plot the solutions and nulclines for different values of $a,~b,~c,~d$"
   ]
  },
  {
   "cell_type": "code",
   "execution_count": null,
   "id": "dbe0a28b",
   "metadata": {},
   "outputs": [],
   "source": [
    "%matplotlib notebook"
   ]
  },
  {
   "cell_type": "markdown",
   "id": "bdf69d1b",
   "metadata": {},
   "source": [
    "# Plotting Nullclines"
   ]
  },
  {
   "cell_type": "code",
   "execution_count": null,
   "id": "0d5843e7",
   "metadata": {
    "scrolled": false
   },
   "outputs": [],
   "source": [
    "fig, ax = plt.subplots(figsize=(8, 5))\n",
    "\n",
    "# background flow\n",
    "U, V = lotka_volterra(t=0, x=[X, Y], a=1, b=2, c=1, d=3)\n",
    "streamplot_set = ax.streamplot(X, Y, U, V, density=[0.7, 1], arrowsize=0, color='grey')\n",
    "\n",
    "# set axis lims\n",
    "ax.hlines(0, xmin=-0.2, xmax=3, color='lightgrey')\n",
    "ax.vlines(0, ymin=-0.2, ymax=2, color='lightgrey')\n",
    "\n",
    "\n",
    "line1, = ax.plot(x1, nc1(x=x1, a=1, b=2, c=1, d=3))  # Initial plot\n",
    "line2, = ax.plot(x1, nc2(x=x1, a=1, b=2, c=1, d=3))  # Initial plot\n",
    "\n",
    "# plot equilibria\n",
    "eq = lv_equilibria(a=1, b=2, c=1, d=3)\n",
    "marker = lv_eq_stability_marker(eq=eq, a=1, b=2, c=1, d=3)\n",
    "\n",
    "points = list()\n",
    "for e, m in zip(eq, marker):\n",
    "    point1, = ax.plot(e[0], e[1], m, c='black')\n",
    "    points.append(point1)\n",
    "\n",
    "ax.set_xlabel(r'$x_1$')\n",
    "ax.set_ylabel(r'$x_2$')\n",
    "\n",
    "ax.set_xlim(-0.2, 1.2)\n",
    "ax.set_ylim(-0.2, 1.2)\n",
    "\n",
    "\n",
    "def update1(a, b, c, d):\n",
    "    global streamplot_set\n",
    "    if streamplot_set is not None:\n",
    "        streamplot_set.lines.remove()\n",
    "            \n",
    "            \n",
    "    U, V = lotka_volterra(t=0, x=[X, Y], a=a, b=b, c=c, d=d)\n",
    "    streamplot_set = ax.streamplot(X, Y, U, V, density=[0.7, 1], arrowsize=0, color='grey')\n",
    "    \n",
    "    line1.set_ydata(nc1(a=a, b=b, c=c, d=d))\n",
    "    line2.set_ydata(nc2(a=a, b=b, c=c, d=d))\n",
    "    \n",
    "    # draw equlibria\n",
    "    eq = lv_equilibria(a=a, b=b, c=c, d=d)\n",
    "    marker = lv_eq_stability_marker(eq=eq, a=a, b=b, c=c, d=d)\n",
    "    \n",
    "    for i, (e, m) in enumerate(zip(eq, marker)):\n",
    "        points[i].set_xdata(e[0])\n",
    "        points[i].set_ydata(e[1])\n",
    "        points[i].set_marker(m)\n",
    "        \n",
    "    \n",
    "    fig.canvas.draw_idle()\n",
    "    \n",
    "slid1 = interactive(update1, \n",
    "         a=widgets.FloatSlider(min=-5, max=5, step=0.01, value=1),\n",
    "         b=widgets.FloatSlider(min=-5, max=5, step=0.01, value=2),\n",
    "         c=widgets.FloatSlider(min=-5, max=5, step=0.01, value=1),\n",
    "         d=widgets.FloatSlider(min=-5, max=5, step=0.01, value=3))\n",
    "display(slid1)"
   ]
  },
  {
   "cell_type": "markdown",
   "id": "77c1ec4a",
   "metadata": {},
   "source": [
    "Above, dots show stable solutions, crosses unstable solutions, and '+' shows centres."
   ]
  },
  {
   "cell_type": "markdown",
   "id": "fa891a32",
   "metadata": {},
   "source": [
    "We now define $\\alpha=a/b$ and $\\gamma=c/d$ to make the analysis easier"
   ]
  },
  {
   "cell_type": "code",
   "execution_count": null,
   "id": "1911e708",
   "metadata": {},
   "outputs": [],
   "source": [
    "# fixing b and d\n",
    "b, d = 1, 3\n",
    "\n",
    "fig, ax = plt.subplots(figsize=(8, 5))\n",
    "\n",
    "# set axis lims\n",
    "ax.hlines(0, xmin=-0.2, xmax=3, color='lightgrey')\n",
    "ax.vlines(0, ymin=-0.2, ymax=2, color='lightgrey')\n",
    "\n",
    "\n",
    "line1, = ax.plot(x1, nc1(x=x1, a=1, b=2, c=1, d=3))  # Initial plot\n",
    "line2, = ax.plot(x1, nc2(x=x1, a=1, b=2, c=1, d=3))  # Initial plot\n",
    "\n",
    "# plot equilibria\n",
    "eq = lv_equilibria(a=1, b=2, c=1, d=3)\n",
    "marker = lv_eq_stability_marker(eq=eq, a=1, b=2, c=1, d=3)\n",
    "\n",
    "points = list()\n",
    "for e, m in zip(eq, marker):\n",
    "    point1, = ax.plot(e[0], e[1], m, c='black')\n",
    "    points.append(point1)\n",
    "\n",
    "ax.set_xlabel(r'$x_1$')\n",
    "ax.set_ylabel(r'$x_2$')\n",
    "\n",
    "ax.set_xlim(-0.2, 1.2)\n",
    "ax.set_ylim(-0.2, 1.2)\n",
    "\n",
    "\n",
    "def update1(alpha, gamma):\n",
    "    a = alpha * b\n",
    "    c = gamma * d\n",
    "    line1.set_ydata(nc1(a=a, b=b, c=c, d=d))\n",
    "    line2.set_ydata(nc2(a=a, b=b, c=c, d=d))\n",
    "    \n",
    "    # draw equlibria\n",
    "    eq = lv_equilibria(a=a, b=b, c=c, d=d)\n",
    "    marker = lv_eq_stability_marker(eq=eq, a=a, b=b, c=c, d=d)\n",
    "    \n",
    "    for i, (e, m) in enumerate(zip(eq, marker)):\n",
    "        points[i].set_xdata(e[0])\n",
    "        points[i].set_ydata(e[1])\n",
    "        points[i].set_marker(m)\n",
    "        \n",
    "    \n",
    "    fig.canvas.draw_idle()\n",
    "    \n",
    "slid1 = interactive(update1, \n",
    "         alpha=widgets.FloatSlider(min=0, max=2, step=0.01, value=0.5),\n",
    "         gamma=widgets.FloatSlider(min=0, max=2, step=0.01, value=0.5))\n",
    "display(slid1)"
   ]
  },
  {
   "cell_type": "code",
   "execution_count": null,
   "id": "eac8f018",
   "metadata": {},
   "outputs": [],
   "source": []
  }
 ],
 "metadata": {
  "kernelspec": {
   "display_name": "Python 3 (ipykernel)",
   "language": "python",
   "name": "python3"
  },
  "language_info": {
   "codemirror_mode": {
    "name": "ipython",
    "version": 3
   },
   "file_extension": ".py",
   "mimetype": "text/x-python",
   "name": "python",
   "nbconvert_exporter": "python",
   "pygments_lexer": "ipython3",
   "version": "3.8.10"
  }
 },
 "nbformat": 4,
 "nbformat_minor": 5
}
