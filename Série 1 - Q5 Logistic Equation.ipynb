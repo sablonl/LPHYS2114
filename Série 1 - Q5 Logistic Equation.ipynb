{
 "cells": [
  {
   "cell_type": "markdown",
   "id": "88db203b",
   "metadata": {},
   "source": [
    "# Question 5 - Generalised Logistic Equation\n",
    "This notebook is a toy to mess around with the solutions of the logistic equation"
   ]
  },
  {
   "cell_type": "markdown",
   "id": "9e0542d6",
   "metadata": {},
   "source": [
    "Import required libraries"
   ]
  },
  {
   "cell_type": "code",
   "execution_count": null,
   "id": "cef76033",
   "metadata": {},
   "outputs": [],
   "source": [
    "import numpy as np\n",
    "from scipy.integrate import odeint  # Used to numerically solve the ODE\n",
    "import matplotlib.pyplot as plt"
   ]
  },
  {
   "cell_type": "code",
   "execution_count": null,
   "id": "e921643d",
   "metadata": {},
   "outputs": [],
   "source": [
    "# Library to allow for interactive plots\n",
    "from IPython.display import display\n",
    "from ipywidgets import interact, widgets, interactive"
   ]
  },
  {
   "cell_type": "markdown",
   "id": "436948a5",
   "metadata": {},
   "source": [
    "Define the function (right hand side of the eqution)"
   ]
  },
  {
   "cell_type": "code",
   "execution_count": null,
   "id": "c6862a22",
   "metadata": {},
   "outputs": [],
   "source": [
    "def logistic_generalised(N, t=0, r=1, a=1, b=1):\n",
    "    return N * (r - a * (N - b)**2)"
   ]
  },
  {
   "cell_type": "markdown",
   "id": "0af56856",
   "metadata": {},
   "source": [
    "We define the equilibria and the stability properties"
   ]
  },
  {
   "cell_type": "code",
   "execution_count": null,
   "id": "148b0661",
   "metadata": {},
   "outputs": [],
   "source": [
    "# zeros of above function\n",
    "def calculate_equlibria(r=1, a=1, b=1):\n",
    "    eq1 = 0\n",
    "    eq2 = b + np.sqrt(r / a)\n",
    "    eq3 = b - np.sqrt(r / a)\n",
    "    return (eq1, eq2, eq3)\n",
    "\n",
    "# Stability of solutions (value of the derivative)\n",
    "def calculate_stability(eq, r=1, a=1, b=1):\n",
    "    eq1, eq2, eq3 = eq\n",
    "    output = (\n",
    "        r - a * b ** 2,\n",
    "        -2 * np.sqrt(r / 1) * eq2,\n",
    "        2 * np.sqrt(r / 1) * eq3\n",
    "    )\n",
    "    return output"
   ]
  },
  {
   "cell_type": "markdown",
   "id": "6314acfe",
   "metadata": {},
   "source": [
    "Lets plot this for different values of $a,~b,~r$"
   ]
  },
  {
   "cell_type": "code",
   "execution_count": null,
   "id": "dbe0a28b",
   "metadata": {},
   "outputs": [],
   "source": [
    "%matplotlib notebook"
   ]
  },
  {
   "cell_type": "markdown",
   "id": "bdf69d1b",
   "metadata": {},
   "source": [
    "# Plotting simplified equation\n",
    "Here we devide the derivative by $N$: $\\frac{\\dot{N}}{N}$ to result in the traditional logistic equaiton"
   ]
  },
  {
   "cell_type": "code",
   "execution_count": null,
   "id": "0d5843e7",
   "metadata": {},
   "outputs": [],
   "source": [
    "x = np.linspace(-0.2, 2, 100)\n",
    "\n",
    "fig, ax = plt.subplots(figsize=(8, 5))\n",
    "line, = ax.plot(x, logistic_generalised(x))  # Initial plot\n",
    "ax.set_xlabel('N')\n",
    "ax.set_ylabel('dN/dt / N')\n",
    "\n",
    "# set zero line\n",
    "ax.hlines(0, xmin=-0.2, xmax=2, color='lightgrey')\n",
    "\n",
    "\n",
    "def update1(r, a, b):\n",
    "    line.set_ydata(logistic_generalised(x, r=r, a=a, b=b) / x)\n",
    "    fig.canvas.draw_idle()\n",
    "    \n",
    "slid1 = interactive(update1, \n",
    "         r=widgets.FloatSlider(min=-1, max=1, step=0.01, value=1), \n",
    "         a=widgets.FloatSlider(min=-1, max=1, step=0.01, value=1), \n",
    "         b=widgets.FloatSlider(min=-1, max=1, step=0.01, value=1))\n",
    "display(slid1)"
   ]
  },
  {
   "cell_type": "markdown",
   "id": "9b2ebe05",
   "metadata": {},
   "source": [
    "# Plotting full equation"
   ]
  },
  {
   "cell_type": "markdown",
   "id": "e8e31106",
   "metadata": {},
   "source": [
    "This now plots the equation: $\\dot{N} = N (r - 1 (N - b)^2)$"
   ]
  },
  {
   "cell_type": "code",
   "execution_count": null,
   "id": "4be72c0b",
   "metadata": {},
   "outputs": [],
   "source": [
    "x = np.linspace(-0.2, 2, 100)\n",
    "\n",
    "fig, ax = plt.subplots(figsize=(8, 5))\n",
    "line, = ax.plot(x, logistic_generalised(x))  # Initial plot\n",
    "ax.set_xlabel('N')\n",
    "ax.set_ylabel('dN/dt')\n",
    "\n",
    "# set zero line\n",
    "ax.hlines(0, xmin=-0.2, xmax=2, color='lightgrey')\n",
    "\n",
    "def update2(r, a, b):\n",
    "    line.set_ydata(logistic_generalised(x, r=r, a=a, b=b))\n",
    "    fig.canvas.draw_idle()\n",
    "    \n",
    "slid2 = interactive(update2, \n",
    "         r=widgets.FloatSlider(min=-1, max=2, step=0.01, value=1), \n",
    "         a=widgets.FloatSlider(min=-1, max=2, step=0.01, value=1), \n",
    "         b=widgets.FloatSlider(min=-2, max=2, step=0.01, value=1))\n",
    "display(slid2)"
   ]
  },
  {
   "cell_type": "markdown",
   "id": "3100e7c0",
   "metadata": {},
   "source": [
    "## Plotting the phase space\n",
    "This plots a bunch of trajectories starting at $t=0$, with $x(t=0)\\in[-0.2, 2.2]$, and shows how these initial conditions evolve in time. Note the colours of the trajectories have no meaning and are just to help keep them seperate. The equilibria are shown by grey lines, where the unstable solution is dotted."
   ]
  },
  {
   "cell_type": "code",
   "execution_count": null,
   "id": "8e4ce36e",
   "metadata": {},
   "outputs": [],
   "source": [
    "fig, ax = plt.subplots(figsize=(8, 5))\n",
    "\n",
    "t = np.linspace(0, 10, 100)\n",
    "\n",
    "values  = np.linspace(-0.2, 2.2, 20)                      \n",
    "vcolors = plt.cm.autumn_r(np.linspace(0.3, 1., len(values)))\n",
    "                          \n",
    "# Plot trajectories\n",
    "lines = list()\n",
    "for v, col in zip(values, vcolors):\n",
    "    X = odeint(logistic_generalised, v, t, args=(1, 1, 1))\n",
    "    line1, = ax.plot(t, X, color=col)\n",
    "    lines.append(line1)\n",
    "    \n",
    "# plot Equilibria\n",
    "lines_eq = list()\n",
    "eq = calculate_equlibria()\n",
    "for q in eq:\n",
    "    line1, = ax.plot(t, q * np.ones(len(t)), color='lightgrey')\n",
    "    lines_eq.append(line1)\n",
    "\n",
    "def update3(r, a, b):\n",
    "    print(\"r^2-ab: \" + str(r ** 2 - a * b))\n",
    "    for i, v in enumerate(values):\n",
    "        X = odeint(logistic_generalised, v, t, args=(r, a, b))\n",
    "        lines[i].set_ydata(X)\n",
    "    \n",
    "    eq = calculate_equlibria(r, a, b)\n",
    "    stab = calculate_stability(eq, r, a, b)\n",
    "    \n",
    "    for i, (q, s) in enumerate(zip(eq, stab)):\n",
    "        if s > 0:\n",
    "            line_sty = \":\"\n",
    "        else:\n",
    "            line_sty = \"solid\"\n",
    "        lines_eq[i].set_ydata(q * np.ones(len(t)))\n",
    "        lines_eq[i].set_linestyle(line_sty)\n",
    "    \n",
    "    fig.canvas.draw_idle()\n",
    "\n",
    "\n",
    "plt.xlabel('t')\n",
    "plt.ylabel('N')\n",
    "\n",
    "slid3 = interactive(update3, \n",
    "         r=widgets.FloatSlider(min=-1, max=1, step=0.01, value=1), \n",
    "         a=widgets.FloatSlider(min=-1, max=1, step=0.01, value=1), \n",
    "         b=widgets.FloatSlider(min=-2, max=2, step=0.01, value=1))\n",
    "display(slid3)"
   ]
  }
 ],
 "metadata": {
  "kernelspec": {
   "display_name": "Python 3 (ipykernel)",
   "language": "python",
   "name": "python3"
  },
  "language_info": {
   "codemirror_mode": {
    "name": "ipython",
    "version": 3
   },
   "file_extension": ".py",
   "mimetype": "text/x-python",
   "name": "python",
   "nbconvert_exporter": "python",
   "pygments_lexer": "ipython3",
   "version": "3.8.10"
  }
 },
 "nbformat": 4,
 "nbformat_minor": 5
}
